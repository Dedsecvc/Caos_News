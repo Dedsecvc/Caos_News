{
  "nbformat": 4,
  "nbformat_minor": 0,
  "metadata": {
    "colab": {
      "name": "prueba_machine.ipynb",
      "provenance": [],
      "collapsed_sections": [],
      "authorship_tag": "ABX9TyPzj4PbRK5gUxfSRbNynyhW",
      "include_colab_link": true
    },
    "kernelspec": {
      "name": "python3",
      "display_name": "Python 3"
    },
    "language_info": {
      "name": "python"
    }
  },
  "cells": [
    {
      "cell_type": "markdown",
      "metadata": {
        "id": "view-in-github",
        "colab_type": "text"
      },
      "source": [
        "<a href=\"https://colab.research.google.com/github/Dedsecvc/Caos_News/blob/main/prueba_machine.ipynb\" target=\"_parent\"><img src=\"https://colab.research.google.com/assets/colab-badge.svg\" alt=\"Open In Colab\"/></a>"
      ]
    },
    {
      "cell_type": "markdown",
      "source": [
        "# **Carga Libreria**"
      ],
      "metadata": {
        "id": "VBTyBwoqZaJd"
      }
    },
    {
      "cell_type": "code",
      "source": [
        "import matplotlib.pyplot as plt"
      ],
      "metadata": {
        "id": "_S4fdYk0ZUrA"
      },
      "execution_count": null,
      "outputs": []
    },
    {
      "cell_type": "code",
      "execution_count": null,
      "metadata": {
        "id": "rZpOzPurYIu8"
      },
      "outputs": [],
      "source": [
        "import pandas as pd"
      ]
    },
    {
      "cell_type": "markdown",
      "source": [
        "# **Codigo**"
      ],
      "metadata": {
        "id": "uTh3_xvOaGlt"
      }
    },
    {
      "cell_type": "code",
      "source": [
        "df_data = pd.read_csv('/content/car.data.csv',header=None)"
      ],
      "metadata": {
        "id": "OPBODFDJaKpc"
      },
      "execution_count": null,
      "outputs": []
    },
    {
      "cell_type": "code",
      "source": [
        "df_data.columns = ['price','buying','maint','doors','persons','lug_boot','safety']"
      ],
      "metadata": {
        "id": "7xnoKK9gbfq6"
      },
      "execution_count": null,
      "outputs": []
    },
    {
      "cell_type": "code",
      "source": [
        "df_data.head(12)"
      ],
      "metadata": {
        "colab": {
          "base_uri": "https://localhost:8080/",
          "height": 426
        },
        "id": "f1SOCSzxbLEB",
        "outputId": "888e56bb-8d7f-43c5-d027-4aad5b6d4ea4"
      },
      "execution_count": null,
      "outputs": [
        {
          "output_type": "execute_result",
          "data": {
            "text/plain": [
              "    price buying maint doors persons lug_boot safety\n",
              "0   vhigh  vhigh     2     2   small      low  unacc\n",
              "1   vhigh  vhigh     2     2   small      med  unacc\n",
              "2   vhigh  vhigh     2     2   small     high  unacc\n",
              "3   vhigh  vhigh     2     2     med      low  unacc\n",
              "4   vhigh  vhigh     2     2     med      med  unacc\n",
              "5   vhigh  vhigh     2     2     med     high  unacc\n",
              "6   vhigh  vhigh     2     2     big      low  unacc\n",
              "7   vhigh  vhigh     2     2     big      med  unacc\n",
              "8   vhigh  vhigh     2     2     big     high  unacc\n",
              "9   vhigh  vhigh     2     4   small      low  unacc\n",
              "10  vhigh  vhigh     2     4   small      med  unacc\n",
              "11  vhigh  vhigh     2     4   small     high  unacc"
            ],
            "text/html": [
              "\n",
              "  <div id=\"df-3d7123ed-e53d-4543-87f4-ac2dd6d91b48\">\n",
              "    <div class=\"colab-df-container\">\n",
              "      <div>\n",
              "<style scoped>\n",
              "    .dataframe tbody tr th:only-of-type {\n",
              "        vertical-align: middle;\n",
              "    }\n",
              "\n",
              "    .dataframe tbody tr th {\n",
              "        vertical-align: top;\n",
              "    }\n",
              "\n",
              "    .dataframe thead th {\n",
              "        text-align: right;\n",
              "    }\n",
              "</style>\n",
              "<table border=\"1\" class=\"dataframe\">\n",
              "  <thead>\n",
              "    <tr style=\"text-align: right;\">\n",
              "      <th></th>\n",
              "      <th>price</th>\n",
              "      <th>buying</th>\n",
              "      <th>maint</th>\n",
              "      <th>doors</th>\n",
              "      <th>persons</th>\n",
              "      <th>lug_boot</th>\n",
              "      <th>safety</th>\n",
              "    </tr>\n",
              "  </thead>\n",
              "  <tbody>\n",
              "    <tr>\n",
              "      <th>0</th>\n",
              "      <td>vhigh</td>\n",
              "      <td>vhigh</td>\n",
              "      <td>2</td>\n",
              "      <td>2</td>\n",
              "      <td>small</td>\n",
              "      <td>low</td>\n",
              "      <td>unacc</td>\n",
              "    </tr>\n",
              "    <tr>\n",
              "      <th>1</th>\n",
              "      <td>vhigh</td>\n",
              "      <td>vhigh</td>\n",
              "      <td>2</td>\n",
              "      <td>2</td>\n",
              "      <td>small</td>\n",
              "      <td>med</td>\n",
              "      <td>unacc</td>\n",
              "    </tr>\n",
              "    <tr>\n",
              "      <th>2</th>\n",
              "      <td>vhigh</td>\n",
              "      <td>vhigh</td>\n",
              "      <td>2</td>\n",
              "      <td>2</td>\n",
              "      <td>small</td>\n",
              "      <td>high</td>\n",
              "      <td>unacc</td>\n",
              "    </tr>\n",
              "    <tr>\n",
              "      <th>3</th>\n",
              "      <td>vhigh</td>\n",
              "      <td>vhigh</td>\n",
              "      <td>2</td>\n",
              "      <td>2</td>\n",
              "      <td>med</td>\n",
              "      <td>low</td>\n",
              "      <td>unacc</td>\n",
              "    </tr>\n",
              "    <tr>\n",
              "      <th>4</th>\n",
              "      <td>vhigh</td>\n",
              "      <td>vhigh</td>\n",
              "      <td>2</td>\n",
              "      <td>2</td>\n",
              "      <td>med</td>\n",
              "      <td>med</td>\n",
              "      <td>unacc</td>\n",
              "    </tr>\n",
              "    <tr>\n",
              "      <th>5</th>\n",
              "      <td>vhigh</td>\n",
              "      <td>vhigh</td>\n",
              "      <td>2</td>\n",
              "      <td>2</td>\n",
              "      <td>med</td>\n",
              "      <td>high</td>\n",
              "      <td>unacc</td>\n",
              "    </tr>\n",
              "    <tr>\n",
              "      <th>6</th>\n",
              "      <td>vhigh</td>\n",
              "      <td>vhigh</td>\n",
              "      <td>2</td>\n",
              "      <td>2</td>\n",
              "      <td>big</td>\n",
              "      <td>low</td>\n",
              "      <td>unacc</td>\n",
              "    </tr>\n",
              "    <tr>\n",
              "      <th>7</th>\n",
              "      <td>vhigh</td>\n",
              "      <td>vhigh</td>\n",
              "      <td>2</td>\n",
              "      <td>2</td>\n",
              "      <td>big</td>\n",
              "      <td>med</td>\n",
              "      <td>unacc</td>\n",
              "    </tr>\n",
              "    <tr>\n",
              "      <th>8</th>\n",
              "      <td>vhigh</td>\n",
              "      <td>vhigh</td>\n",
              "      <td>2</td>\n",
              "      <td>2</td>\n",
              "      <td>big</td>\n",
              "      <td>high</td>\n",
              "      <td>unacc</td>\n",
              "    </tr>\n",
              "    <tr>\n",
              "      <th>9</th>\n",
              "      <td>vhigh</td>\n",
              "      <td>vhigh</td>\n",
              "      <td>2</td>\n",
              "      <td>4</td>\n",
              "      <td>small</td>\n",
              "      <td>low</td>\n",
              "      <td>unacc</td>\n",
              "    </tr>\n",
              "    <tr>\n",
              "      <th>10</th>\n",
              "      <td>vhigh</td>\n",
              "      <td>vhigh</td>\n",
              "      <td>2</td>\n",
              "      <td>4</td>\n",
              "      <td>small</td>\n",
              "      <td>med</td>\n",
              "      <td>unacc</td>\n",
              "    </tr>\n",
              "    <tr>\n",
              "      <th>11</th>\n",
              "      <td>vhigh</td>\n",
              "      <td>vhigh</td>\n",
              "      <td>2</td>\n",
              "      <td>4</td>\n",
              "      <td>small</td>\n",
              "      <td>high</td>\n",
              "      <td>unacc</td>\n",
              "    </tr>\n",
              "  </tbody>\n",
              "</table>\n",
              "</div>\n",
              "      <button class=\"colab-df-convert\" onclick=\"convertToInteractive('df-3d7123ed-e53d-4543-87f4-ac2dd6d91b48')\"\n",
              "              title=\"Convert this dataframe to an interactive table.\"\n",
              "              style=\"display:none;\">\n",
              "        \n",
              "  <svg xmlns=\"http://www.w3.org/2000/svg\" height=\"24px\"viewBox=\"0 0 24 24\"\n",
              "       width=\"24px\">\n",
              "    <path d=\"M0 0h24v24H0V0z\" fill=\"none\"/>\n",
              "    <path d=\"M18.56 5.44l.94 2.06.94-2.06 2.06-.94-2.06-.94-.94-2.06-.94 2.06-2.06.94zm-11 1L8.5 8.5l.94-2.06 2.06-.94-2.06-.94L8.5 2.5l-.94 2.06-2.06.94zm10 10l.94 2.06.94-2.06 2.06-.94-2.06-.94-.94-2.06-.94 2.06-2.06.94z\"/><path d=\"M17.41 7.96l-1.37-1.37c-.4-.4-.92-.59-1.43-.59-.52 0-1.04.2-1.43.59L10.3 9.45l-7.72 7.72c-.78.78-.78 2.05 0 2.83L4 21.41c.39.39.9.59 1.41.59.51 0 1.02-.2 1.41-.59l7.78-7.78 2.81-2.81c.8-.78.8-2.07 0-2.86zM5.41 20L4 18.59l7.72-7.72 1.47 1.35L5.41 20z\"/>\n",
              "  </svg>\n",
              "      </button>\n",
              "      \n",
              "  <style>\n",
              "    .colab-df-container {\n",
              "      display:flex;\n",
              "      flex-wrap:wrap;\n",
              "      gap: 12px;\n",
              "    }\n",
              "\n",
              "    .colab-df-convert {\n",
              "      background-color: #E8F0FE;\n",
              "      border: none;\n",
              "      border-radius: 50%;\n",
              "      cursor: pointer;\n",
              "      display: none;\n",
              "      fill: #1967D2;\n",
              "      height: 32px;\n",
              "      padding: 0 0 0 0;\n",
              "      width: 32px;\n",
              "    }\n",
              "\n",
              "    .colab-df-convert:hover {\n",
              "      background-color: #E2EBFA;\n",
              "      box-shadow: 0px 1px 2px rgba(60, 64, 67, 0.3), 0px 1px 3px 1px rgba(60, 64, 67, 0.15);\n",
              "      fill: #174EA6;\n",
              "    }\n",
              "\n",
              "    [theme=dark] .colab-df-convert {\n",
              "      background-color: #3B4455;\n",
              "      fill: #D2E3FC;\n",
              "    }\n",
              "\n",
              "    [theme=dark] .colab-df-convert:hover {\n",
              "      background-color: #434B5C;\n",
              "      box-shadow: 0px 1px 3px 1px rgba(0, 0, 0, 0.15);\n",
              "      filter: drop-shadow(0px 1px 2px rgba(0, 0, 0, 0.3));\n",
              "      fill: #FFFFFF;\n",
              "    }\n",
              "  </style>\n",
              "\n",
              "      <script>\n",
              "        const buttonEl =\n",
              "          document.querySelector('#df-3d7123ed-e53d-4543-87f4-ac2dd6d91b48 button.colab-df-convert');\n",
              "        buttonEl.style.display =\n",
              "          google.colab.kernel.accessAllowed ? 'block' : 'none';\n",
              "\n",
              "        async function convertToInteractive(key) {\n",
              "          const element = document.querySelector('#df-3d7123ed-e53d-4543-87f4-ac2dd6d91b48');\n",
              "          const dataTable =\n",
              "            await google.colab.kernel.invokeFunction('convertToInteractive',\n",
              "                                                     [key], {});\n",
              "          if (!dataTable) return;\n",
              "\n",
              "          const docLinkHtml = 'Like what you see? Visit the ' +\n",
              "            '<a target=\"_blank\" href=https://colab.research.google.com/notebooks/data_table.ipynb>data table notebook</a>'\n",
              "            + ' to learn more about interactive tables.';\n",
              "          element.innerHTML = '';\n",
              "          dataTable['output_type'] = 'display_data';\n",
              "          await google.colab.output.renderOutput(dataTable, element);\n",
              "          const docLink = document.createElement('div');\n",
              "          docLink.innerHTML = docLinkHtml;\n",
              "          element.appendChild(docLink);\n",
              "        }\n",
              "      </script>\n",
              "    </div>\n",
              "  </div>\n",
              "  "
            ]
          },
          "metadata": {},
          "execution_count": 5
        }
      ]
    },
    {
      "cell_type": "code",
      "source": [
        "df_data.sample(9)"
      ],
      "metadata": {
        "colab": {
          "base_uri": "https://localhost:8080/",
          "height": 331
        },
        "id": "_SCUynR-bW3J",
        "outputId": "8ade23ee-8486-4a21-d6e6-168626faef88"
      },
      "execution_count": null,
      "outputs": [
        {
          "output_type": "execute_result",
          "data": {
            "text/plain": [
              "      price buying  maint doors persons lug_boot safety\n",
              "445    high  vhigh      2     4     med      med  unacc\n",
              "77    vhigh  vhigh      4  more     med     high  unacc\n",
              "590    high   high      3  more     med     high    acc\n",
              "776    high    low      2  more   small     high  unacc\n",
              "981     med   high      2     4   small      low  unacc\n",
              "1429    low   high      2  more     big      med    acc\n",
              "750    high    med  5more  more     med      low  unacc\n",
              "995     med   high      2  more     med     high    acc\n",
              "6     vhigh  vhigh      2     2     big      low  unacc"
            ],
            "text/html": [
              "\n",
              "  <div id=\"df-86642f12-a9e3-40d0-974d-1f8e129f5082\">\n",
              "    <div class=\"colab-df-container\">\n",
              "      <div>\n",
              "<style scoped>\n",
              "    .dataframe tbody tr th:only-of-type {\n",
              "        vertical-align: middle;\n",
              "    }\n",
              "\n",
              "    .dataframe tbody tr th {\n",
              "        vertical-align: top;\n",
              "    }\n",
              "\n",
              "    .dataframe thead th {\n",
              "        text-align: right;\n",
              "    }\n",
              "</style>\n",
              "<table border=\"1\" class=\"dataframe\">\n",
              "  <thead>\n",
              "    <tr style=\"text-align: right;\">\n",
              "      <th></th>\n",
              "      <th>price</th>\n",
              "      <th>buying</th>\n",
              "      <th>maint</th>\n",
              "      <th>doors</th>\n",
              "      <th>persons</th>\n",
              "      <th>lug_boot</th>\n",
              "      <th>safety</th>\n",
              "    </tr>\n",
              "  </thead>\n",
              "  <tbody>\n",
              "    <tr>\n",
              "      <th>445</th>\n",
              "      <td>high</td>\n",
              "      <td>vhigh</td>\n",
              "      <td>2</td>\n",
              "      <td>4</td>\n",
              "      <td>med</td>\n",
              "      <td>med</td>\n",
              "      <td>unacc</td>\n",
              "    </tr>\n",
              "    <tr>\n",
              "      <th>77</th>\n",
              "      <td>vhigh</td>\n",
              "      <td>vhigh</td>\n",
              "      <td>4</td>\n",
              "      <td>more</td>\n",
              "      <td>med</td>\n",
              "      <td>high</td>\n",
              "      <td>unacc</td>\n",
              "    </tr>\n",
              "    <tr>\n",
              "      <th>590</th>\n",
              "      <td>high</td>\n",
              "      <td>high</td>\n",
              "      <td>3</td>\n",
              "      <td>more</td>\n",
              "      <td>med</td>\n",
              "      <td>high</td>\n",
              "      <td>acc</td>\n",
              "    </tr>\n",
              "    <tr>\n",
              "      <th>776</th>\n",
              "      <td>high</td>\n",
              "      <td>low</td>\n",
              "      <td>2</td>\n",
              "      <td>more</td>\n",
              "      <td>small</td>\n",
              "      <td>high</td>\n",
              "      <td>unacc</td>\n",
              "    </tr>\n",
              "    <tr>\n",
              "      <th>981</th>\n",
              "      <td>med</td>\n",
              "      <td>high</td>\n",
              "      <td>2</td>\n",
              "      <td>4</td>\n",
              "      <td>small</td>\n",
              "      <td>low</td>\n",
              "      <td>unacc</td>\n",
              "    </tr>\n",
              "    <tr>\n",
              "      <th>1429</th>\n",
              "      <td>low</td>\n",
              "      <td>high</td>\n",
              "      <td>2</td>\n",
              "      <td>more</td>\n",
              "      <td>big</td>\n",
              "      <td>med</td>\n",
              "      <td>acc</td>\n",
              "    </tr>\n",
              "    <tr>\n",
              "      <th>750</th>\n",
              "      <td>high</td>\n",
              "      <td>med</td>\n",
              "      <td>5more</td>\n",
              "      <td>more</td>\n",
              "      <td>med</td>\n",
              "      <td>low</td>\n",
              "      <td>unacc</td>\n",
              "    </tr>\n",
              "    <tr>\n",
              "      <th>995</th>\n",
              "      <td>med</td>\n",
              "      <td>high</td>\n",
              "      <td>2</td>\n",
              "      <td>more</td>\n",
              "      <td>med</td>\n",
              "      <td>high</td>\n",
              "      <td>acc</td>\n",
              "    </tr>\n",
              "    <tr>\n",
              "      <th>6</th>\n",
              "      <td>vhigh</td>\n",
              "      <td>vhigh</td>\n",
              "      <td>2</td>\n",
              "      <td>2</td>\n",
              "      <td>big</td>\n",
              "      <td>low</td>\n",
              "      <td>unacc</td>\n",
              "    </tr>\n",
              "  </tbody>\n",
              "</table>\n",
              "</div>\n",
              "      <button class=\"colab-df-convert\" onclick=\"convertToInteractive('df-86642f12-a9e3-40d0-974d-1f8e129f5082')\"\n",
              "              title=\"Convert this dataframe to an interactive table.\"\n",
              "              style=\"display:none;\">\n",
              "        \n",
              "  <svg xmlns=\"http://www.w3.org/2000/svg\" height=\"24px\"viewBox=\"0 0 24 24\"\n",
              "       width=\"24px\">\n",
              "    <path d=\"M0 0h24v24H0V0z\" fill=\"none\"/>\n",
              "    <path d=\"M18.56 5.44l.94 2.06.94-2.06 2.06-.94-2.06-.94-.94-2.06-.94 2.06-2.06.94zm-11 1L8.5 8.5l.94-2.06 2.06-.94-2.06-.94L8.5 2.5l-.94 2.06-2.06.94zm10 10l.94 2.06.94-2.06 2.06-.94-2.06-.94-.94-2.06-.94 2.06-2.06.94z\"/><path d=\"M17.41 7.96l-1.37-1.37c-.4-.4-.92-.59-1.43-.59-.52 0-1.04.2-1.43.59L10.3 9.45l-7.72 7.72c-.78.78-.78 2.05 0 2.83L4 21.41c.39.39.9.59 1.41.59.51 0 1.02-.2 1.41-.59l7.78-7.78 2.81-2.81c.8-.78.8-2.07 0-2.86zM5.41 20L4 18.59l7.72-7.72 1.47 1.35L5.41 20z\"/>\n",
              "  </svg>\n",
              "      </button>\n",
              "      \n",
              "  <style>\n",
              "    .colab-df-container {\n",
              "      display:flex;\n",
              "      flex-wrap:wrap;\n",
              "      gap: 12px;\n",
              "    }\n",
              "\n",
              "    .colab-df-convert {\n",
              "      background-color: #E8F0FE;\n",
              "      border: none;\n",
              "      border-radius: 50%;\n",
              "      cursor: pointer;\n",
              "      display: none;\n",
              "      fill: #1967D2;\n",
              "      height: 32px;\n",
              "      padding: 0 0 0 0;\n",
              "      width: 32px;\n",
              "    }\n",
              "\n",
              "    .colab-df-convert:hover {\n",
              "      background-color: #E2EBFA;\n",
              "      box-shadow: 0px 1px 2px rgba(60, 64, 67, 0.3), 0px 1px 3px 1px rgba(60, 64, 67, 0.15);\n",
              "      fill: #174EA6;\n",
              "    }\n",
              "\n",
              "    [theme=dark] .colab-df-convert {\n",
              "      background-color: #3B4455;\n",
              "      fill: #D2E3FC;\n",
              "    }\n",
              "\n",
              "    [theme=dark] .colab-df-convert:hover {\n",
              "      background-color: #434B5C;\n",
              "      box-shadow: 0px 1px 3px 1px rgba(0, 0, 0, 0.15);\n",
              "      filter: drop-shadow(0px 1px 2px rgba(0, 0, 0, 0.3));\n",
              "      fill: #FFFFFF;\n",
              "    }\n",
              "  </style>\n",
              "\n",
              "      <script>\n",
              "        const buttonEl =\n",
              "          document.querySelector('#df-86642f12-a9e3-40d0-974d-1f8e129f5082 button.colab-df-convert');\n",
              "        buttonEl.style.display =\n",
              "          google.colab.kernel.accessAllowed ? 'block' : 'none';\n",
              "\n",
              "        async function convertToInteractive(key) {\n",
              "          const element = document.querySelector('#df-86642f12-a9e3-40d0-974d-1f8e129f5082');\n",
              "          const dataTable =\n",
              "            await google.colab.kernel.invokeFunction('convertToInteractive',\n",
              "                                                     [key], {});\n",
              "          if (!dataTable) return;\n",
              "\n",
              "          const docLinkHtml = 'Like what you see? Visit the ' +\n",
              "            '<a target=\"_blank\" href=https://colab.research.google.com/notebooks/data_table.ipynb>data table notebook</a>'\n",
              "            + ' to learn more about interactive tables.';\n",
              "          element.innerHTML = '';\n",
              "          dataTable['output_type'] = 'display_data';\n",
              "          await google.colab.output.renderOutput(dataTable, element);\n",
              "          const docLink = document.createElement('div');\n",
              "          docLink.innerHTML = docLinkHtml;\n",
              "          element.appendChild(docLink);\n",
              "        }\n",
              "      </script>\n",
              "    </div>\n",
              "  </div>\n",
              "  "
            ]
          },
          "metadata": {},
          "execution_count": 6
        }
      ]
    },
    {
      "cell_type": "code",
      "source": [
        "df_data.shape"
      ],
      "metadata": {
        "colab": {
          "base_uri": "https://localhost:8080/"
        },
        "id": "u_jylvRpbY1q",
        "outputId": "c00ff6df-329a-454a-fa36-468dc378bdc3"
      },
      "execution_count": null,
      "outputs": [
        {
          "output_type": "execute_result",
          "data": {
            "text/plain": [
              "(1728, 7)"
            ]
          },
          "metadata": {},
          "execution_count": 7
        }
      ]
    },
    {
      "cell_type": "code",
      "source": [
        "df_data.tail(12)"
      ],
      "metadata": {
        "colab": {
          "base_uri": "https://localhost:8080/",
          "height": 426
        },
        "id": "W7CNgjo-bl3c",
        "outputId": "65d72567-0101-4d30-a1f3-4074441ffb3a"
      },
      "execution_count": null,
      "outputs": [
        {
          "output_type": "execute_result",
          "data": {
            "text/plain": [
              "     price buying  maint doors persons lug_boot safety\n",
              "1716   low    low  5more     4     big      low  unacc\n",
              "1717   low    low  5more     4     big      med   good\n",
              "1718   low    low  5more     4     big     high  vgood\n",
              "1719   low    low  5more  more   small      low  unacc\n",
              "1720   low    low  5more  more   small      med    acc\n",
              "1721   low    low  5more  more   small     high   good\n",
              "1722   low    low  5more  more     med      low  unacc\n",
              "1723   low    low  5more  more     med      med   good\n",
              "1724   low    low  5more  more     med     high  vgood\n",
              "1725   low    low  5more  more     big      low  unacc\n",
              "1726   low    low  5more  more     big      med   good\n",
              "1727   low    low  5more  more     big     high  vgood"
            ],
            "text/html": [
              "\n",
              "  <div id=\"df-c1d89343-94b3-4cda-b78d-242fae782453\">\n",
              "    <div class=\"colab-df-container\">\n",
              "      <div>\n",
              "<style scoped>\n",
              "    .dataframe tbody tr th:only-of-type {\n",
              "        vertical-align: middle;\n",
              "    }\n",
              "\n",
              "    .dataframe tbody tr th {\n",
              "        vertical-align: top;\n",
              "    }\n",
              "\n",
              "    .dataframe thead th {\n",
              "        text-align: right;\n",
              "    }\n",
              "</style>\n",
              "<table border=\"1\" class=\"dataframe\">\n",
              "  <thead>\n",
              "    <tr style=\"text-align: right;\">\n",
              "      <th></th>\n",
              "      <th>price</th>\n",
              "      <th>buying</th>\n",
              "      <th>maint</th>\n",
              "      <th>doors</th>\n",
              "      <th>persons</th>\n",
              "      <th>lug_boot</th>\n",
              "      <th>safety</th>\n",
              "    </tr>\n",
              "  </thead>\n",
              "  <tbody>\n",
              "    <tr>\n",
              "      <th>1716</th>\n",
              "      <td>low</td>\n",
              "      <td>low</td>\n",
              "      <td>5more</td>\n",
              "      <td>4</td>\n",
              "      <td>big</td>\n",
              "      <td>low</td>\n",
              "      <td>unacc</td>\n",
              "    </tr>\n",
              "    <tr>\n",
              "      <th>1717</th>\n",
              "      <td>low</td>\n",
              "      <td>low</td>\n",
              "      <td>5more</td>\n",
              "      <td>4</td>\n",
              "      <td>big</td>\n",
              "      <td>med</td>\n",
              "      <td>good</td>\n",
              "    </tr>\n",
              "    <tr>\n",
              "      <th>1718</th>\n",
              "      <td>low</td>\n",
              "      <td>low</td>\n",
              "      <td>5more</td>\n",
              "      <td>4</td>\n",
              "      <td>big</td>\n",
              "      <td>high</td>\n",
              "      <td>vgood</td>\n",
              "    </tr>\n",
              "    <tr>\n",
              "      <th>1719</th>\n",
              "      <td>low</td>\n",
              "      <td>low</td>\n",
              "      <td>5more</td>\n",
              "      <td>more</td>\n",
              "      <td>small</td>\n",
              "      <td>low</td>\n",
              "      <td>unacc</td>\n",
              "    </tr>\n",
              "    <tr>\n",
              "      <th>1720</th>\n",
              "      <td>low</td>\n",
              "      <td>low</td>\n",
              "      <td>5more</td>\n",
              "      <td>more</td>\n",
              "      <td>small</td>\n",
              "      <td>med</td>\n",
              "      <td>acc</td>\n",
              "    </tr>\n",
              "    <tr>\n",
              "      <th>1721</th>\n",
              "      <td>low</td>\n",
              "      <td>low</td>\n",
              "      <td>5more</td>\n",
              "      <td>more</td>\n",
              "      <td>small</td>\n",
              "      <td>high</td>\n",
              "      <td>good</td>\n",
              "    </tr>\n",
              "    <tr>\n",
              "      <th>1722</th>\n",
              "      <td>low</td>\n",
              "      <td>low</td>\n",
              "      <td>5more</td>\n",
              "      <td>more</td>\n",
              "      <td>med</td>\n",
              "      <td>low</td>\n",
              "      <td>unacc</td>\n",
              "    </tr>\n",
              "    <tr>\n",
              "      <th>1723</th>\n",
              "      <td>low</td>\n",
              "      <td>low</td>\n",
              "      <td>5more</td>\n",
              "      <td>more</td>\n",
              "      <td>med</td>\n",
              "      <td>med</td>\n",
              "      <td>good</td>\n",
              "    </tr>\n",
              "    <tr>\n",
              "      <th>1724</th>\n",
              "      <td>low</td>\n",
              "      <td>low</td>\n",
              "      <td>5more</td>\n",
              "      <td>more</td>\n",
              "      <td>med</td>\n",
              "      <td>high</td>\n",
              "      <td>vgood</td>\n",
              "    </tr>\n",
              "    <tr>\n",
              "      <th>1725</th>\n",
              "      <td>low</td>\n",
              "      <td>low</td>\n",
              "      <td>5more</td>\n",
              "      <td>more</td>\n",
              "      <td>big</td>\n",
              "      <td>low</td>\n",
              "      <td>unacc</td>\n",
              "    </tr>\n",
              "    <tr>\n",
              "      <th>1726</th>\n",
              "      <td>low</td>\n",
              "      <td>low</td>\n",
              "      <td>5more</td>\n",
              "      <td>more</td>\n",
              "      <td>big</td>\n",
              "      <td>med</td>\n",
              "      <td>good</td>\n",
              "    </tr>\n",
              "    <tr>\n",
              "      <th>1727</th>\n",
              "      <td>low</td>\n",
              "      <td>low</td>\n",
              "      <td>5more</td>\n",
              "      <td>more</td>\n",
              "      <td>big</td>\n",
              "      <td>high</td>\n",
              "      <td>vgood</td>\n",
              "    </tr>\n",
              "  </tbody>\n",
              "</table>\n",
              "</div>\n",
              "      <button class=\"colab-df-convert\" onclick=\"convertToInteractive('df-c1d89343-94b3-4cda-b78d-242fae782453')\"\n",
              "              title=\"Convert this dataframe to an interactive table.\"\n",
              "              style=\"display:none;\">\n",
              "        \n",
              "  <svg xmlns=\"http://www.w3.org/2000/svg\" height=\"24px\"viewBox=\"0 0 24 24\"\n",
              "       width=\"24px\">\n",
              "    <path d=\"M0 0h24v24H0V0z\" fill=\"none\"/>\n",
              "    <path d=\"M18.56 5.44l.94 2.06.94-2.06 2.06-.94-2.06-.94-.94-2.06-.94 2.06-2.06.94zm-11 1L8.5 8.5l.94-2.06 2.06-.94-2.06-.94L8.5 2.5l-.94 2.06-2.06.94zm10 10l.94 2.06.94-2.06 2.06-.94-2.06-.94-.94-2.06-.94 2.06-2.06.94z\"/><path d=\"M17.41 7.96l-1.37-1.37c-.4-.4-.92-.59-1.43-.59-.52 0-1.04.2-1.43.59L10.3 9.45l-7.72 7.72c-.78.78-.78 2.05 0 2.83L4 21.41c.39.39.9.59 1.41.59.51 0 1.02-.2 1.41-.59l7.78-7.78 2.81-2.81c.8-.78.8-2.07 0-2.86zM5.41 20L4 18.59l7.72-7.72 1.47 1.35L5.41 20z\"/>\n",
              "  </svg>\n",
              "      </button>\n",
              "      \n",
              "  <style>\n",
              "    .colab-df-container {\n",
              "      display:flex;\n",
              "      flex-wrap:wrap;\n",
              "      gap: 12px;\n",
              "    }\n",
              "\n",
              "    .colab-df-convert {\n",
              "      background-color: #E8F0FE;\n",
              "      border: none;\n",
              "      border-radius: 50%;\n",
              "      cursor: pointer;\n",
              "      display: none;\n",
              "      fill: #1967D2;\n",
              "      height: 32px;\n",
              "      padding: 0 0 0 0;\n",
              "      width: 32px;\n",
              "    }\n",
              "\n",
              "    .colab-df-convert:hover {\n",
              "      background-color: #E2EBFA;\n",
              "      box-shadow: 0px 1px 2px rgba(60, 64, 67, 0.3), 0px 1px 3px 1px rgba(60, 64, 67, 0.15);\n",
              "      fill: #174EA6;\n",
              "    }\n",
              "\n",
              "    [theme=dark] .colab-df-convert {\n",
              "      background-color: #3B4455;\n",
              "      fill: #D2E3FC;\n",
              "    }\n",
              "\n",
              "    [theme=dark] .colab-df-convert:hover {\n",
              "      background-color: #434B5C;\n",
              "      box-shadow: 0px 1px 3px 1px rgba(0, 0, 0, 0.15);\n",
              "      filter: drop-shadow(0px 1px 2px rgba(0, 0, 0, 0.3));\n",
              "      fill: #FFFFFF;\n",
              "    }\n",
              "  </style>\n",
              "\n",
              "      <script>\n",
              "        const buttonEl =\n",
              "          document.querySelector('#df-c1d89343-94b3-4cda-b78d-242fae782453 button.colab-df-convert');\n",
              "        buttonEl.style.display =\n",
              "          google.colab.kernel.accessAllowed ? 'block' : 'none';\n",
              "\n",
              "        async function convertToInteractive(key) {\n",
              "          const element = document.querySelector('#df-c1d89343-94b3-4cda-b78d-242fae782453');\n",
              "          const dataTable =\n",
              "            await google.colab.kernel.invokeFunction('convertToInteractive',\n",
              "                                                     [key], {});\n",
              "          if (!dataTable) return;\n",
              "\n",
              "          const docLinkHtml = 'Like what you see? Visit the ' +\n",
              "            '<a target=\"_blank\" href=https://colab.research.google.com/notebooks/data_table.ipynb>data table notebook</a>'\n",
              "            + ' to learn more about interactive tables.';\n",
              "          element.innerHTML = '';\n",
              "          dataTable['output_type'] = 'display_data';\n",
              "          await google.colab.output.renderOutput(dataTable, element);\n",
              "          const docLink = document.createElement('div');\n",
              "          docLink.innerHTML = docLinkHtml;\n",
              "          element.appendChild(docLink);\n",
              "        }\n",
              "      </script>\n",
              "    </div>\n",
              "  </div>\n",
              "  "
            ]
          },
          "metadata": {},
          "execution_count": 8
        }
      ]
    },
    {
      "cell_type": "code",
      "source": [
        "df_data['price'].head()"
      ],
      "metadata": {
        "colab": {
          "base_uri": "https://localhost:8080/"
        },
        "id": "Yoy6kgDobphu",
        "outputId": "90aabb76-0544-4099-d5e8-336902126b4d"
      },
      "execution_count": null,
      "outputs": [
        {
          "output_type": "execute_result",
          "data": {
            "text/plain": [
              "0    vhigh\n",
              "1    vhigh\n",
              "2    vhigh\n",
              "3    vhigh\n",
              "4    vhigh\n",
              "Name: price, dtype: object"
            ]
          },
          "metadata": {},
          "execution_count": 9
        }
      ]
    },
    {
      "cell_type": "code",
      "source": [
        "df_data[['price','maint']]"
      ],
      "metadata": {
        "colab": {
          "base_uri": "https://localhost:8080/",
          "height": 423
        },
        "id": "E8qE1fbVbrJ1",
        "outputId": "34846d93-9b07-4cba-85ec-315d4df6872a"
      },
      "execution_count": null,
      "outputs": [
        {
          "output_type": "execute_result",
          "data": {
            "text/plain": [
              "      price  maint\n",
              "0     vhigh      2\n",
              "1     vhigh      2\n",
              "2     vhigh      2\n",
              "3     vhigh      2\n",
              "4     vhigh      2\n",
              "...     ...    ...\n",
              "1723    low  5more\n",
              "1724    low  5more\n",
              "1725    low  5more\n",
              "1726    low  5more\n",
              "1727    low  5more\n",
              "\n",
              "[1728 rows x 2 columns]"
            ],
            "text/html": [
              "\n",
              "  <div id=\"df-c7afe125-98e5-42da-88a2-005279853970\">\n",
              "    <div class=\"colab-df-container\">\n",
              "      <div>\n",
              "<style scoped>\n",
              "    .dataframe tbody tr th:only-of-type {\n",
              "        vertical-align: middle;\n",
              "    }\n",
              "\n",
              "    .dataframe tbody tr th {\n",
              "        vertical-align: top;\n",
              "    }\n",
              "\n",
              "    .dataframe thead th {\n",
              "        text-align: right;\n",
              "    }\n",
              "</style>\n",
              "<table border=\"1\" class=\"dataframe\">\n",
              "  <thead>\n",
              "    <tr style=\"text-align: right;\">\n",
              "      <th></th>\n",
              "      <th>price</th>\n",
              "      <th>maint</th>\n",
              "    </tr>\n",
              "  </thead>\n",
              "  <tbody>\n",
              "    <tr>\n",
              "      <th>0</th>\n",
              "      <td>vhigh</td>\n",
              "      <td>2</td>\n",
              "    </tr>\n",
              "    <tr>\n",
              "      <th>1</th>\n",
              "      <td>vhigh</td>\n",
              "      <td>2</td>\n",
              "    </tr>\n",
              "    <tr>\n",
              "      <th>2</th>\n",
              "      <td>vhigh</td>\n",
              "      <td>2</td>\n",
              "    </tr>\n",
              "    <tr>\n",
              "      <th>3</th>\n",
              "      <td>vhigh</td>\n",
              "      <td>2</td>\n",
              "    </tr>\n",
              "    <tr>\n",
              "      <th>4</th>\n",
              "      <td>vhigh</td>\n",
              "      <td>2</td>\n",
              "    </tr>\n",
              "    <tr>\n",
              "      <th>...</th>\n",
              "      <td>...</td>\n",
              "      <td>...</td>\n",
              "    </tr>\n",
              "    <tr>\n",
              "      <th>1723</th>\n",
              "      <td>low</td>\n",
              "      <td>5more</td>\n",
              "    </tr>\n",
              "    <tr>\n",
              "      <th>1724</th>\n",
              "      <td>low</td>\n",
              "      <td>5more</td>\n",
              "    </tr>\n",
              "    <tr>\n",
              "      <th>1725</th>\n",
              "      <td>low</td>\n",
              "      <td>5more</td>\n",
              "    </tr>\n",
              "    <tr>\n",
              "      <th>1726</th>\n",
              "      <td>low</td>\n",
              "      <td>5more</td>\n",
              "    </tr>\n",
              "    <tr>\n",
              "      <th>1727</th>\n",
              "      <td>low</td>\n",
              "      <td>5more</td>\n",
              "    </tr>\n",
              "  </tbody>\n",
              "</table>\n",
              "<p>1728 rows × 2 columns</p>\n",
              "</div>\n",
              "      <button class=\"colab-df-convert\" onclick=\"convertToInteractive('df-c7afe125-98e5-42da-88a2-005279853970')\"\n",
              "              title=\"Convert this dataframe to an interactive table.\"\n",
              "              style=\"display:none;\">\n",
              "        \n",
              "  <svg xmlns=\"http://www.w3.org/2000/svg\" height=\"24px\"viewBox=\"0 0 24 24\"\n",
              "       width=\"24px\">\n",
              "    <path d=\"M0 0h24v24H0V0z\" fill=\"none\"/>\n",
              "    <path d=\"M18.56 5.44l.94 2.06.94-2.06 2.06-.94-2.06-.94-.94-2.06-.94 2.06-2.06.94zm-11 1L8.5 8.5l.94-2.06 2.06-.94-2.06-.94L8.5 2.5l-.94 2.06-2.06.94zm10 10l.94 2.06.94-2.06 2.06-.94-2.06-.94-.94-2.06-.94 2.06-2.06.94z\"/><path d=\"M17.41 7.96l-1.37-1.37c-.4-.4-.92-.59-1.43-.59-.52 0-1.04.2-1.43.59L10.3 9.45l-7.72 7.72c-.78.78-.78 2.05 0 2.83L4 21.41c.39.39.9.59 1.41.59.51 0 1.02-.2 1.41-.59l7.78-7.78 2.81-2.81c.8-.78.8-2.07 0-2.86zM5.41 20L4 18.59l7.72-7.72 1.47 1.35L5.41 20z\"/>\n",
              "  </svg>\n",
              "      </button>\n",
              "      \n",
              "  <style>\n",
              "    .colab-df-container {\n",
              "      display:flex;\n",
              "      flex-wrap:wrap;\n",
              "      gap: 12px;\n",
              "    }\n",
              "\n",
              "    .colab-df-convert {\n",
              "      background-color: #E8F0FE;\n",
              "      border: none;\n",
              "      border-radius: 50%;\n",
              "      cursor: pointer;\n",
              "      display: none;\n",
              "      fill: #1967D2;\n",
              "      height: 32px;\n",
              "      padding: 0 0 0 0;\n",
              "      width: 32px;\n",
              "    }\n",
              "\n",
              "    .colab-df-convert:hover {\n",
              "      background-color: #E2EBFA;\n",
              "      box-shadow: 0px 1px 2px rgba(60, 64, 67, 0.3), 0px 1px 3px 1px rgba(60, 64, 67, 0.15);\n",
              "      fill: #174EA6;\n",
              "    }\n",
              "\n",
              "    [theme=dark] .colab-df-convert {\n",
              "      background-color: #3B4455;\n",
              "      fill: #D2E3FC;\n",
              "    }\n",
              "\n",
              "    [theme=dark] .colab-df-convert:hover {\n",
              "      background-color: #434B5C;\n",
              "      box-shadow: 0px 1px 3px 1px rgba(0, 0, 0, 0.15);\n",
              "      filter: drop-shadow(0px 1px 2px rgba(0, 0, 0, 0.3));\n",
              "      fill: #FFFFFF;\n",
              "    }\n",
              "  </style>\n",
              "\n",
              "      <script>\n",
              "        const buttonEl =\n",
              "          document.querySelector('#df-c7afe125-98e5-42da-88a2-005279853970 button.colab-df-convert');\n",
              "        buttonEl.style.display =\n",
              "          google.colab.kernel.accessAllowed ? 'block' : 'none';\n",
              "\n",
              "        async function convertToInteractive(key) {\n",
              "          const element = document.querySelector('#df-c7afe125-98e5-42da-88a2-005279853970');\n",
              "          const dataTable =\n",
              "            await google.colab.kernel.invokeFunction('convertToInteractive',\n",
              "                                                     [key], {});\n",
              "          if (!dataTable) return;\n",
              "\n",
              "          const docLinkHtml = 'Like what you see? Visit the ' +\n",
              "            '<a target=\"_blank\" href=https://colab.research.google.com/notebooks/data_table.ipynb>data table notebook</a>'\n",
              "            + ' to learn more about interactive tables.';\n",
              "          element.innerHTML = '';\n",
              "          dataTable['output_type'] = 'display_data';\n",
              "          await google.colab.output.renderOutput(dataTable, element);\n",
              "          const docLink = document.createElement('div');\n",
              "          docLink.innerHTML = docLinkHtml;\n",
              "          element.appendChild(docLink);\n",
              "        }\n",
              "      </script>\n",
              "    </div>\n",
              "  </div>\n",
              "  "
            ]
          },
          "metadata": {},
          "execution_count": 10
        }
      ]
    },
    {
      "cell_type": "code",
      "source": [
        "df_data['safety'].value_counts()"
      ],
      "metadata": {
        "colab": {
          "base_uri": "https://localhost:8080/"
        },
        "id": "M95eduuhbxg8",
        "outputId": "0090578f-0b25-47d1-f115-34e27d2bded1"
      },
      "execution_count": null,
      "outputs": [
        {
          "output_type": "execute_result",
          "data": {
            "text/plain": [
              "unacc    1210\n",
              "acc       384\n",
              "good       69\n",
              "vgood      65\n",
              "Name: safety, dtype: int64"
            ]
          },
          "metadata": {},
          "execution_count": 11
        }
      ]
    },
    {
      "cell_type": "code",
      "source": [
        "df_data['safety'].value_counts().sort_index()"
      ],
      "metadata": {
        "colab": {
          "base_uri": "https://localhost:8080/"
        },
        "id": "NNfeecABbxb-",
        "outputId": "64326398-03af-453d-d9f8-33c10770f85c"
      },
      "execution_count": null,
      "outputs": [
        {
          "output_type": "execute_result",
          "data": {
            "text/plain": [
              "acc       384\n",
              "good       69\n",
              "unacc    1210\n",
              "vgood      65\n",
              "Name: safety, dtype: int64"
            ]
          },
          "metadata": {},
          "execution_count": 12
        }
      ]
    },
    {
      "cell_type": "code",
      "source": [
        "decision = df_data['safety'].value_counts()"
      ],
      "metadata": {
        "id": "3E9W5jDCbxWy"
      },
      "execution_count": null,
      "outputs": []
    },
    {
      "cell_type": "code",
      "source": [
        "decision.plot(kind = 'bar')"
      ],
      "metadata": {
        "colab": {
          "base_uri": "https://localhost:8080/",
          "height": 303
        },
        "id": "xv6JDiwWbxSV",
        "outputId": "c03ac215-9e4c-4c2c-9f03-8173fc2bf3f6"
      },
      "execution_count": null,
      "outputs": [
        {
          "output_type": "execute_result",
          "data": {
            "text/plain": [
              "<matplotlib.axes._subplots.AxesSubplot at 0x7f0e136331d0>"
            ]
          },
          "metadata": {},
          "execution_count": 14
        },
        {
          "output_type": "display_data",
          "data": {
            "text/plain": [
              "<Figure size 432x288 with 1 Axes>"
            ],
            "image/png": "[encoded data removed]"
          },
          "metadata": {
            "needs_background": "light"
          }
        }
      ]
    },
    {
      "cell_type": "code",
      "source": [
        "df_data['price'].unique()"
      ],
      "metadata": {
        "colab": {
          "base_uri": "https://localhost:8080/"
        },
        "id": "MSPtPpBXbxMt",
        "outputId": "96c9d4c7-e97a-4356-d06d-2fb75f9d668f"
      },
      "execution_count": null,
      "outputs": [
        {
          "output_type": "execute_result",
          "data": {
            "text/plain": [
              "array(['vhigh', 'high', 'med', 'low'], dtype=object)"
            ]
          },
          "metadata": {},
          "execution_count": 15
        }
      ]
    },
    {
      "cell_type": "code",
      "source": [
        "df_data['price'].replace(('vhigh', 'high', 'med', 'low'),(4,3,2,1))"
      ],
      "metadata": {
        "colab": {
          "base_uri": "https://localhost:8080/"
        },
        "id": "06fINeZxbxCA",
        "outputId": "9194fa2f-8e09-4f9e-cff3-bae159789d24"
      },
      "execution_count": null,
      "outputs": [
        {
          "output_type": "execute_result",
          "data": {
            "text/plain": [
              "0       4\n",
              "1       4\n",
              "2       4\n",
              "3       4\n",
              "4       4\n",
              "       ..\n",
              "1723    1\n",
              "1724    1\n",
              "1725    1\n",
              "1726    1\n",
              "1727    1\n",
              "Name: price, Length: 1728, dtype: int64"
            ]
          },
          "metadata": {},
          "execution_count": 16
        }
      ]
    },
    {
      "cell_type": "code",
      "source": [
        "df_data['price'].replace(('vhigh', 'high', 'med', 'low'),(4,3,2,1), inplace = True)"
      ],
      "metadata": {
        "id": "whqQ4lIHb_yb"
      },
      "execution_count": null,
      "outputs": []
    },
    {
      "cell_type": "code",
      "source": [
        "df_data['price'].unique()\n"
      ],
      "metadata": {
        "colab": {
          "base_uri": "https://localhost:8080/"
        },
        "id": "PiYCPZDSb_tR",
        "outputId": "356b4057-f193-4f16-b208-34053e490fb2"
      },
      "execution_count": null,
      "outputs": [
        {
          "output_type": "execute_result",
          "data": {
            "text/plain": [
              "array([4, 3, 2, 1])"
            ]
          },
          "metadata": {},
          "execution_count": 18
        }
      ]
    },
    {
      "cell_type": "code",
      "source": [
        "precios = df_data['price'].value_counts()"
      ],
      "metadata": {
        "id": "v246CpUfb_iN"
      },
      "execution_count": null,
      "outputs": []
    },
    {
      "cell_type": "code",
      "source": [
        "precios.plot(kind = 'bar')"
      ],
      "metadata": {
        "colab": {
          "base_uri": "https://localhost:8080/",
          "height": 279
        },
        "id": "9_xd0vtRcIn3",
        "outputId": "4b4c7903-c813-4300-c015-760d1c15dcd8"
      },
      "execution_count": null,
      "outputs": [
        {
          "output_type": "execute_result",
          "data": {
            "text/plain": [
              "<matplotlib.axes._subplots.AxesSubplot at 0x7f0e135c2490>"
            ]
          },
          "metadata": {},
          "execution_count": 20
        },
        {
          "output_type": "display_data",
          "data": {
            "text/plain": [
              "<Figure size 432x288 with 1 Axes>"
            ],
            "image/png": "[encoded data removed]"
          },
          "metadata": {
            "needs_background": "light"
          }
        }
      ]
    },
    {
      "cell_type": "code",
      "source": [
        "plt.xlabel('Precios')"
      ],
      "metadata": {
        "colab": {
          "base_uri": "https://localhost:8080/",
          "height": 300
        },
        "id": "ee1QtK0ucIXs",
        "outputId": "10c79a30-2f1e-4865-c70e-805a15032cb0"
      },
      "execution_count": null,
      "outputs": [
        {
          "output_type": "execute_result",
          "data": {
            "text/plain": [
              "Text(0.5, 0, 'Precios')"
            ]
          },
          "metadata": {},
          "execution_count": 21
        },
        {
          "output_type": "display_data",
          "data": {
            "text/plain": [
              "<Figure size 432x288 with 1 Axes>"
            ],
            "image/png": "[encoded data removed]"
          },
          "metadata": {
            "needs_background": "light"
          }
        }
      ]
    },
    {
      "cell_type": "code",
      "source": [
        "plt.ylabel('Cantidad')"
      ],
      "metadata": {
        "colab": {
          "base_uri": "https://localhost:8080/",
          "height": 286
        },
        "id": "TQpFI_mwcIL7",
        "outputId": "408aceb7-e218-4171-ee60-e0a004ddb679"
      },
      "execution_count": null,
      "outputs": [
        {
          "output_type": "execute_result",
          "data": {
            "text/plain": [
              "Text(0, 0.5, 'Cantidad')"
            ]
          },
          "metadata": {},
          "execution_count": 22
        },
        {
          "output_type": "display_data",
          "data": {
            "text/plain": [
              "<Figure size 432x288 with 1 Axes>"
            ],
            "image/png": "[encoded data removed]"
          },
          "metadata": {
            "needs_background": "light"
          }
        }
      ]
    },
    {
      "cell_type": "code",
      "source": [
        "plt.title('Precios Autos')"
      ],
      "metadata": {
        "colab": {
          "base_uri": "https://localhost:8080/",
          "height": 298
        },
        "id": "EGn3DkWbcHm3",
        "outputId": "568b36a7-ac7b-4090-8d3b-bc0bfaea2d80"
      },
      "execution_count": null,
      "outputs": [
        {
          "output_type": "execute_result",
          "data": {
            "text/plain": [
              "Text(0.5, 1.0, 'Precios Autos')"
            ]
          },
          "metadata": {},
          "execution_count": 23
        },
        {
          "output_type": "display_data",
          "data": {
            "text/plain": [
              "<Figure size 432x288 with 1 Axes>"
            ],
            "image/png": "[encoded data removed]"
          },
          "metadata": {
            "needs_background": "light"
          }
        }
      ]
    },
    {
      "cell_type": "markdown",
      "source": [
        "# **Codigo**"
      ],
      "metadata": {
        "id": "rSiFX2xJcvUA"
      }
    },
    {
      "cell_type": "code",
      "source": [
        ""
      ],
      "metadata": {
        "id": "qgKgJzVBc0ut"
      },
      "execution_count": null,
      "outputs": []
    },
    {
      "cell_type": "code",
      "source": [
        "import matplotlib.pyplot as plt"
      ],
      "metadata": {
        "id": "kQT0YMFasAfr"
      },
      "execution_count": null,
      "outputs": []
    },
    {
      "cell_type": "code",
      "source": [
        "from google.colab import files\n",
        "files.upload()"
      ],
      "metadata": {
        "colab": {
          "resources": {
            "http://localhost:8080/nbextensions/google.colab/files.js": {
              "data": "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",
              "ok": true,
              "headers": [
                [
                  "content-type",
                  "application/javascript"
                ]
              ],
              "status": 200,
              "status_text": ""
            }
          },
          "base_uri": "https://localhost:8080/",
          "height": 111
        },
        "id": "7wLAGDo9sGNy",
        "outputId": "f05c7838-6b65-4bc6-d90f-fa84b861569f"
      },
      "execution_count": null,
      "outputs": [
        {
          "output_type": "display_data",
          "data": {
            "text/plain": [
              "<IPython.core.display.HTML object>"
            ],
            "text/html": [
              "\n",
              "     <input type=\"file\" id=\"files-00116a97-34cf-4bfa-8e21-05cb213dfef0\" name=\"files[]\" multiple disabled\n",
              "        style=\"border:none\" />\n",
              "     <output id=\"result-00116a97-34cf-4bfa-8e21-05cb213dfef0\">\n",
              "      Upload widget is only available when the cell has been executed in the\n",
              "      current browser session. Please rerun this cell to enable.\n",
              "      </output>\n",
              "      <script src=\"/nbextensions/google.colab/files.js\"></script> "
            ]
          },
          "metadata": {}
        },
        {
          "output_type": "stream",
          "name": "stdout",
          "text": [
            "Saving Forbes Richest Atheletes (Forbes Richest Athletes 1990-2020).csv to Forbes Richest Atheletes (Forbes Richest Athletes 1990-2020).csv\n"
          ]
        },
        {
          "output_type": "execute_result",
          "data": {
            "text/plain": [
              "{'Forbes Richest Atheletes (Forbes Richest Athletes 1990-2020).csv': b'S.NO,Name,Nationality,Current Rank,Previous Year Rank,Sport,Year,earnings ($ million)\\r\\n1,Mike Tyson,USA,1,,boxing,1990,28.6\\r\\n2,Buster Douglas,USA,2,,boxing,1990,26\\r\\n3,Sugar Ray Leonard,USA,3,,boxing,1990,13\\r\\n4,Ayrton Senna,Brazil,4,,auto racing,1990,10\\r\\n5,Alain Prost,France,5,,auto racing,1990,9\\r\\n6,Jack Nicklaus,USA,6,,golf,1990,8.6\\r\\n7,Greg Norman,Australia,7,,golf,1990,8.5\\r\\n8,Michael Jordan,USA,8,,basketball,1990,8.1\\r\\n9,Arnold Palmer,USA,8,,golf,1990,8.1\\r\\n10,Evander Holyfield,USA,8,,boxing,1990,8.1\\r\\n11,Evander Holyfield,USA,1,8,boxing,1991,60.5\\r\\n12,Mike Tyson,USA,2,1,boxing,1991,31.5\\r\\n13,Michael Jordan,USA,3,8,basketball,1991,16\\r\\n14,George Foreman,USA,4,>30,boxing,1991,14.5\\r\\n15,Ayrton Senna,Brazil,5,4,auto racing,1991,13\\r\\n16,Alain Prost,France,6,5,auto racing,1991,11\\r\\n17,\"Donovan \"\"Razor\"\" Ruddock\",Canada,7,>30,boxing,1991,10.2\\r\\n18,Arnold Palmer,USA,8,8,golf,1991,9.3\\r\\n19,Nigel Mansell,UK,9,12,auto racing,1991,9\\r\\n20,Sugar Ray Leonard,USA,10,6,golf,1991,8.5\\r\\n21,Michael Jordan,USA,1,3,Basketball,1992,35.9\\r\\n22,Evander Holyfield,USA,2,1,Boxing,1992,28\\r\\n23,Ayrton Senna,Brazil,3,5,Auto Racing,1992,22\\r\\n24,Nigel Mansell,UK,4,9,Auto Racing,1992,14.5\\r\\n25,Arnold Palmer,USA,5,8,Golf,1992,11.1\\r\\n26,Andre Agassi,USA,6,17,Tennis,1992,11\\r\\n27,Joe Montana,USA,7,13,NFL,1992,9.5\\r\\n28,Sugar Ray Leonard,USA,8,10,Golf,1992,9.2\\r\\n29,Jim Courier,USA,9,>40,Tennis,1992,9\\r\\n30,Monica Seles,USA,10,12,Tennis,1992,8.5\\r\\n31,Michael Jordan,USA,1,1,Basketball,1993,36\\r\\n32,Riddick Bowe,USA,2,>40,Boxing,1993,25\\r\\n33,Ayrton Senna,Brazil,3,3,Auto racing,1993,18.5\\r\\n34,Alain Prost,France,4,>40,Auto Racing,1993,16\\r\\n35,George Foreman,USA,5,19,Boxing,1993,15.8\\r\\n36,Shaquille O\\'Neal,USA,6,>40,NBA,1993,15.2\\r\\n37,Lennox Lewis,USA,7,>40,Boxing,1993,15\\r\\n38,Cecil Fielder,USA,8,40,Baseball,1993,12.7\\r\\n39,Jim Courier,USA,9,9,Tennis,1993,12.6\\r\\n40,Joe Montana,USA,10,7,NFL,1993,11.5\\r\\n41,Michael Jordan,USA,1,1,Basketball,1994,30\\r\\n42,Shaq O\\'Neal,USA,2,6,Basketball,1994,16.7\\r\\n43,Jack Nicklaus,USA,3,13,Golf,1994,14.8\\r\\n44,Arnold Palmer,USA,4,11,Golf,1994,13.6\\r\\n45,Gerhard Berger,Austria,5,30,Auto Racing,1994,13.5\\r\\n46,Wayne Gretzky,Canada,5,22,Ice Hockey,1994,13.5\\r\\n47,Michael Moorer,USA,7,>40,Boxing,1994,12.1\\r\\n48,Evander Holyfield,USA,8,12,Boxing,1994,12\\r\\n49,Andre Agassi,USA,9,20,Tennis,1994,11.4\\r\\n50,Nigel Mansell,UK,10,19,Auto Racing,1994,11.3\\r\\n51,Michael Jordan,USA,1,1,basketball,1995,43.9\\r\\n52,Mike Tyson,USA,2,not ranked,boxing,1995,40\\r\\n53,Deion Sanders,USA,3,38,American Football / Baseball,1995,22.5\\r\\n54,Riddick Bowe,USA,4,not ranked,boxing,1995,22.2\\r\\n55,Shaquille O\\'Neal,USA,5,2,basketball,1995,21.9\\r\\n56,George Foreman,USA,6,15,boxing,1995,18\\r\\n57,Andre Agassi,USA,7,9,tennis,1995,16\\r\\n58,Sugar Ray Leonard,USA,8,3,golf,1995,15.1\\r\\n59,Michael Schumacher,Germany,9,30,auto racing,1995,15\\r\\n60,Wayne Gretzky,Canada,10,5,ice hockey,1995,14.5\\r\\n61,Mike Tyson,USA,1,2,Boxing,1996,75\\r\\n62,Michael Jordan,USA,2,1,Basketball,1996,52.6\\r\\n63,Michael Schumacher,Germany,3,9,F1 Motorsports,1996,33\\r\\n64,Shaquille O\\'Neal,USA,4,5,Basketball,1996,24.4\\r\\n65,Emmit Smith,USA,5,not ranked,NFL,1996,16.5\\r\\n66,Evander Holyfield,USA,6,14,Boxing,1996,15.5\\r\\n67,Andre Agassi,USA,7,7,Tennis,1996,15.2\\r\\n68,Arnold Palmer,USA,8,11,Golf,1996,15.1\\r\\n69,Dennis Rodman,USA,9,not ranked,Basketball,1996,12.9\\r\\n70,Patrick Ewing,USA,9,19,Basketball,1996,12.9\\r\\n71,Michael Jordan,USA,1,2,Basketball,1997,78.3\\r\\n72,Evander Holyfield,USA,2,6,Boxing,1997,54.3\\r\\n73,Oscar De La Hoya,USA,3,17,Boxing,1997,38\\r\\n74,Michael Schumacher,Germany,4,3,F1 Motorsports,1997,35\\r\\n75,Mike Tyson,USA,5,1,Boxing,1997,27\\r\\n76,Tiger Woods,USA,6,26,Golf,1997,26.1\\r\\n77,Shaquille O\\'Neal,USA,7,4,Basketball,1997,25.4\\r\\n78,Dale Earnhardt,USA,8,20,NASCAR,1997,19.1\\r\\n79,Joe Sakic,Canada,9,none,Hockey,1997,17.9\\r\\n80,Grant Hill,USA,10,18,Basketball,1997,17\\r\\n81,Michael Jordan,USA,1,,Basketball,1998,69\\r\\n82,Michael Schumacher,Germany,2,,F1 Motorsports,1998,38\\r\\n83,Sergei Federov,Russia,3,,Ice Hockey,1998,29.8\\r\\n84,Tiger Woods,USA,4,,Golf,1998,26.8\\r\\n85,Dale Earnhardt,USA,5,,NASCAR,1998,24.1\\r\\n86,Grant Hill,USA,6,,Basketball,1998,21.6\\r\\n87,Oscar De La Hoya,USA,7,,Boxing,1998,18.5\\r\\n88,Patrick Ewing,USA,8,,Basketball,1998,18.3\\r\\n89,Arnold Palmer,USA,9,,Golf,1998,18.1\\r\\n90,Gary Sheffield,USA,10,,Baseball,1998,17.2\\r\\n91,Michael Schumacher,Germany,1,2,Auto Racing,1999,49\\r\\n92,Tiger Woods,USA,2,4,Golf,1999,47\\r\\n93,Oscar De La Hoya,USA,3,7,Boxing,1999,43.5\\r\\n94,Michael Jordan,USA,4,1,Basketball,1999,40\\r\\n95,Evander Holyfield,USA,5,>10,Boxing,1999,35.5\\r\\n96,Mike Tyson,USA,6,>10,Boxing,1999,33\\r\\n97,Shaq O\\'Neal,USA,7,>10,Basketball,1999,31\\r\\n98,Lennox Lewis,USA,8,>10,Boxing,1999,29\\r\\n99,Dale Earnhardt,USA,9,5,Auto Racing,1999,26.5\\r\\n100,Grant Hill,USA,10,6,Basketball,1999,23\\r\\n101,Michael Schumacher,Germany,1,1,Auto Racing,2000,59\\r\\n102,Tiger Woods,USA,2,2,Golf,2000,53\\r\\n103,Mike Tyson,USA,3,6,Boxing,2000,48\\r\\n104,Michael Jordan,USA,4,4,Basketball,2000,37\\r\\n105,Grant Hill,USA,5,10,Basketball,2000,26\\r\\n106,Dale Earnhardt,USA,6,9,Auto Racing (Nascar),2000,24.5\\r\\n107,Shaq O\\'Neal,USA,7,7,Basketball,2000,24\\r\\n108,Lennox Lewis,USA,8,8,Boxing,2000,23\\r\\n109,Oscar De La Hoya,USA,9,3,Boxing,2000,23\\r\\n110,Kevin Garnett,USA,10,>10,Basketball,2000,21\\r\\n111,Tiger Woods,USA,1,2,Golf,2002,69\\r\\n112,Michael Schumacher,Germany,2,1,F1 Motorsports,2002,67\\r\\n113,Michael Jordan,USA,3,4,Basketball,2002,36\\r\\n114,Lennox Lewis,USA,4,8,Boxing,2002,28\\r\\n115,Grant Hill,USA,5,5,Basketball,2002,24\\r\\n116,Shaquille O\\'Neal,USA,5,7,Basketball,2002,24\\r\\n117,Mike Tyson,USA,7,3,Boxing,2002,23\\r\\n118,Kevin Garnett,USA,7,10,Basketball,2002,23\\r\\n119,Kobe Bryant,USA,9,>10,Basketball,2002,22\\r\\n120,Jacques Villeneuve,Canada,10,>10,Auto Racing,2002,20\\r\\n121,Jeff Gordon,USA,10,>10,Auto Racing (Nascar),2002,20\\r\\n122,Tiger Woods,USA,1,1,Golf,2003,78\\r\\n123,Michael Schumacher,Germany,2,2,F1 Motorsports,2003,75\\r\\n124,Michael Jordan,USA,3,3,Basketball,2003,35\\r\\n125,Shaq O\\'Neal,USA,4,5,Basketball,2003,30.5\\r\\n126,Oscar De La Hoya,USA,5,>10,Boxing,2003,30\\r\\n127,Kevin Garnett,USA,6,7,Basketball,2003,28\\r\\n128,Alex Rodriguez,USA,7,>10,Baseball,2003,26\\r\\n129,Grant Hill,USA,8,5,Basketball,2003,25.5\\r\\n130,Andre Agassi,USA,9,>10,Tennis,2003,24\\r\\n131,Jacques Villeneuve,Canada,10,10,Auto Racing,2003,23\\r\\n132,Tiger Woods,USA,1,1,golf,2004,80.3\\r\\n133,Michael Schumacher,Germany,2,2,F1 racing,2004,80\\r\\n134,Peyton Manning,USA,3,>10,American Football,2004,42\\r\\n135,Michael Jordan,USA,4,3,basketball,2004,35\\r\\n136,Shaquille O\\'Neal,USA,5,4,basketball,2004,31.9\\r\\n137,Kevin Garnett,USA,6,6,basketball,2004,29.7\\r\\n138,Andre Agassi,USA,7,9,tennis,2004,28.2\\r\\n139,David Beckham,UK,8,>10,soccer,2004,28\\r\\n140,Alex Rodriguez,USA,9,7,baseball,2004,26.2\\r\\n141,Kobe Bryant,USA,10,>10,basketball,2004,26.1\\r\\n142,Tiger Woods,USA,1,1,golf,2005,87\\r\\n143,Michael Schumacher,Germany,2,2,F1 racing,2005,60\\r\\n144,Oscar De La Hoya,USA,3,>10,boxing,2005,38\\r\\n145,Michael Vick,USA,4,>10,American Football,2005,37.5\\r\\n146,Shaquille O\\'Neal,USA,5,5,basketball,2005,33.4\\r\\n147,Michael Jordan,USA,6,4,basketball,2005,33\\r\\n148,David Beckham,UK,7,8,soccer,2005,32.5\\r\\n149,Kobe Bryant,USA,8,10,basketball,2005,28.8\\r\\n150,Lance Armstrong,USA,9,>10,cycling,2005,28\\r\\n151,Valentino Rossi,Italy,9,>10,motorcycle gp,2005,28\\r\\n152,Tiger Woods,USA,1,1,golf,2006,90\\r\\n153,Michael Schumacher,Germany,2,2,F1 racing,2006,58\\r\\n154,Muhammad Ali,USA,3,>10,boxing,2006,55\\r\\n155,Phil Mickelson,USA,4,>10,golf,2006,47\\r\\n156,Michael Jordan,USA,5,6,basketball,2006,32\\r\\n157,Kobe Bryant,USA,6,8,basketball,2006,31\\r\\n158,Shaquille O\\'Neal,USA,7,5,basketball,2006,30\\r\\n159,Valentino Rossi,Italy,8,9,motorcycle gp,2006,30\\r\\n160,Alex Rodriguez,USA,9,>10,baseball,2006,29\\r\\n161,Tom Brady,USA,9,>10,American Football,2006,29\\r\\n162,Tiger Woods,USA,1,1,golf,2007,100\\r\\n163,Oscar De La Hoya,USA,2,>10,boxing,2007,43\\r\\n164,Phil Mickelson,USA,3,4,golf,2007,42\\r\\n165,Kimi Raikkonen,Finland,4,>10,F1 racing,2007,40\\r\\n166,Michael Schumacher,Germany,5,2,F1 racing,2007,36\\r\\n167,David Beckham,UK,6,>10,soccer,2007,33\\r\\n168,Kobe Bryant,USA,6,>10,basketball,2007,33\\r\\n169,Shaquille O\\'Neal,USA,8,7,basketball,2007,32\\r\\n170,Ronaldinho,Brazil,9,>10,soccer,2007,31\\r\\n171,Michael Jordan,USA,9,5,basketball,2007,31\\r\\n172,Tiger Woods,USA,1,1,golf,2008,115\\r\\n173,David Beckham,UK,2,6,soccer,2008,50\\r\\n174,Michael Jordan,USA,3,9,basketball,2008,45\\r\\n175,Phil Mickelson,USA,3,3,golf,2008,45\\r\\n176,Kimi Raikkonen,Finland,5,4,F1 racing,2008,44\\r\\n177,Kobe Bryant,USA,6,7,basketball,2008,39\\r\\n178,LeBron James,USA,7,>10,basketball,2008,38\\r\\n179,Ronaldinho,Brazil,8,9,soccer,2008,37\\r\\n180,Valentino Rossi,Italy,9,>10,motorcycle gp,2008,35\\r\\n181,Roger Federer,Switzerland,9,>10,tennis,2008,35\\r\\n182,Tiger Woods,USA,1,1,golf,2009,110\\r\\n183,Kobe Bryant,USA,2,6,basketball,2009,45\\r\\n184,Michael Jordan,USA,2,3,basketball,2009,45\\r\\n185,Kimi Raikkonen,Finland,2,5,F1 racing,2009,45\\r\\n186,David Beckham,UK,5,2,soccer,2009,42\\r\\n187,LeBron James,USA,6,7,basketball,2009,40\\r\\n188,Phil Mickelson,USA,6,3,golf,2009,40\\r\\n189,Manny Pacquiao,Philippines,6,>10,boxing,2009,40\\r\\n190,Valentino Rossi,Italy,9,9,motorcycle gp,2009,35\\r\\n191,Dale Earnhardt Jr.,USA,10,>10,NASCAR,2009,34\\r\\n192,Tiger Woods,USA,1,1,golf,2010,105\\r\\n193,Floyd Mayweather,USA,2,>10,boxing,2010,65\\r\\n194,Kobe Bryant,USA,3,2,basketball,2010,48\\r\\n195,Phil Mickelson,USA,4,6,golf,2010,46\\r\\n196,David Beckham,UK,5,5,soccer,2010,43.7\\r\\n197,Roger Federer,Switzerland,6,>10,tennis,2010,43\\r\\n198,LeBron James,USA,7,6,basketball,2010,42.8\\r\\n199,Manny Pacquiao,Philippines,8,6,boxing,2010,42\\r\\n200,Eli Manning,USA,9,>10,American Football,2010,39.9\\r\\n201,Terrell Suggs,USA,10,>10,American Football,2010,38.3\\r\\n202,Tiger Woods,USA,1,1,golf,2011,75\\r\\n203,Kobe Bryant,USA,2,3,basketball,2011,53\\r\\n204,LeBron James,USA,3,7,basketball,2011,48\\r\\n205,Roger Federer,Switzerland,4,6,tennis,2011,47\\r\\n206,Phil Mickelson,USA,5,4,golf,2011,46.5\\r\\n207,David Beckham,UK,6,5,soccer,2011,40\\r\\n208,Cristiano Ronaldo,Portugal,7,13,soccer,2011,38\\r\\n209,Alex Rodriguez,Dominican,8,12,baseball,2011,35\\r\\n210,Michael Schumacher,Germany,9,>20,F1 racing,2011,34\\r\\n211,Lionel Messi,Argentina,10,>20,soccer,2011,32.3\\r\\n212,Floyd Mayweather,USA,1,?,Boxing,2012,85\\r\\n213,Manny Pacquiao,Filipino,2,24,Boxing,2012,62\\r\\n214,Tiger Woods,USA,3,1,Golf,2012,59.4\\r\\n215,LeBron James,USA,4,3,Basketball,2012,53\\r\\n216,Roger Federer,Switzerland,5,4,Tennis,2012,52.7\\r\\n217,Kobe Bryant,USA,6,2,Basketball,2012,52.3\\r\\n218,Phil Mickelson,USA,7,5,Golf,2012,47.8\\r\\n219,David Beckham,UK,8,6,Soccer,2012,46\\r\\n220,Cristiano Ronaldo,Portugal,9,21,Soccer,2012,42.5\\r\\n221,Peyton Manning,USA,10,7,American Football,2012,42.4\\r\\n222,Tiger Woods,USA,1,3,Golf,2013,78.1\\r\\n223,Roger Federer,Switzerland,2,5,Tennis,2013,71.5\\r\\n224,Kobe Bryant,USA,3,6,Basketball,2013,61.9\\r\\n225,LeBron James,USA,4,4,Basketball,2013,59.8\\r\\n226,Drew Brees,USA,5,?,American Football,2013,51\\r\\n227,Aaron Rodgers,USA,6,?,American Football,2013,49\\r\\n228,Phil Mickelson,USA,7,7,Golf,2013,48.7\\r\\n229,David Beckham,UK,8,8,Soccer,2013,47.2\\r\\n230,Cristiano Ronaldo,Portugal,9,9,Soccer,2013,44\\r\\n231,Lionel Messi,Argentina,10,11,Soccer,2013,41.3\\r\\n232,Floyd Mayweather,USA,1,14,Boxing,2014,105\\r\\n233,Cristiano Ronaldo,Portugal,2,9,Soccer,2014,80\\r\\n234,LeBron James,USA,3,4,Basketball,2014,72.3\\r\\n235,Lionel Messi,Argentina,4,10,Soccer,2014,64.7\\r\\n236,Kobe Bryant,USA,5,3,Basketball,2014,61.5\\r\\n237,Tiger Woods,USA,6,1,Golf,2014,61.2\\r\\n238,Roger Federer,Switzerland,7,2,Tennis,2014,56.2\\r\\n239,Phil Mickelson,USA,8,7,Golf,2014,53.2\\r\\n240,Rafael Nadal,Spain,9,>14,Tennis,2014,44.5\\r\\n241,Matt Ryan,USA,10,>100,American Football,2014,43.8\\r\\n242,Floyd Mayweather,USA,1,1,Boxing,2015,300\\r\\n243,Manny Pacquiao,Philippines,2,11,Boxing,2015,160\\r\\n244,Cristiano Ronaldo,Portugal,3,2,Soccer,2015,79.6\\r\\n245,Lionel Messi,Argentina,4,4,Soccer,2015,73.8\\r\\n246,Roger Federer,Switzerland,5,7,Tennis,2015,67\\r\\n247,LeBron James,USA,6,3,Basketball,2015,64.8\\r\\n248,Kevin Durant,USA,7,20,Basketball,2015,54.2\\r\\n249,Phil Mickelson,USA,8,8,Golf,2015,50.8\\r\\n250,Tiger Woods,USA,9,6,Golf,2015,50.6\\r\\n251,Kobe Bryant,USA,10,5,Basketball,2015,49.5\\r\\n252,Cristiano Ronaldo,Portugal,1,3,Soccer,2016,88\\r\\n253,Lionel Messi,Argentina,2,4,Soccer,2016,81.4\\r\\n254,LeBron James,USA,3,6,Basketball,2016,77.2\\r\\n255,Roger Federer,Switzerland,4,5,Tennis,2016,67.8\\r\\n256,Kevin Durant,USA,5,7,Basketball,2016,56.2\\r\\n257,Novak Djokovic,Serbia,6,13,Tennis,2016,55.8\\r\\n258,Cam Newton,USA,7,>20,American Football,2016,53.1\\r\\n259,Phil Mickelson,USA,8,8,Golf,2016,52.9\\r\\n260,Jordan Spieth,USA,9,>20,Golf,2016,52.8\\r\\n261,Kobe Bryant,USA,10,10,Basketball,2016,50\\r\\n262,Cristiano Ronaldo,Portugal,1,1,Soccer,2017,93\\r\\n263,LeBron James,USA,2,3,Basketball,2017,86.2\\r\\n264,Lionel Messi,Argentina,3,2,Soccer,2017,80\\r\\n265,Roger Federer,Switzerland,4,4,Tennis,2017,64\\r\\n266,Kevin Durant,USA,5,5,Basketball,2017,60.6\\r\\n267,Andrew Luck,USA,6,,American Football,2017,50\\r\\n268,Rory McIlroy,Northern Ireland,6,17,Golf,2017,50\\r\\n269,Stephen Curry,USA,8,,Basketball,2017,47.3\\r\\n270,James Harden,USA,9,,Basketball,2017,46.6\\r\\n271,Lewis Hamilton,UK,10,,auto racing,2017,46\\r\\n272,Floyd Mayweather,USA,1,>100,Boxing,2018,285\\r\\n273,Lionel Messi,Argentina,2,3,Soccer,2018,111\\r\\n274,Cristiano Ronaldo,Portugal,3,1,Soccer,2018,108\\r\\n275,Conor McGregor,Ireland,4,24,MMA,2018,99\\r\\n276,Neymar,Brazil,5,18,Soccer,2018,90\\r\\n277,LeBron James,USA,6,2,Basketball,2018,85.5\\r\\n278,Roger Federer,Switzerland,7,4,Tennis,2018,77.2\\r\\n279,Stephen Curry,USA,8,8,Basketball,2018,76.9\\r\\n280,Matt Ryan,USA,9,>100,American Football,2018,67.3\\r\\n281,Matthew Stafford,USA,10,>100,American Football,2018,59.5\\r\\n282,Lionel Messi,Argentina,1,2,Soccer,2019,127\\r\\n283,Cristiano Ronaldo,Portugal,2,3,Soccer,2019,109\\r\\n284,Neymar,Brazil,3,5,Soccer,2019,105\\r\\n285,Canelo Alvarez,Mexico,4,15,Boxing,2019,94\\r\\n286,Roger Federer,Switzerland,5,7,Tennis,2019,93.4\\r\\n287,Russell Wilson,USA,6,??,American Football,2019,89.5\\r\\n288,Aaron Rogers,USA,7,??,American Football,2019,89.3\\r\\n289,LeBron James,USA,8,6,Basketball,2019,89\\r\\n290,Stephen Curry,USA,9,8,Basketball,2019,79.8\\r\\n291,Kevin Durant,USA,10,11,Basketball,2019,65.4\\r\\n292,Roger Federer,Switzerland,1,5,Tennis,2020,106.3\\r\\n293,Cristiano Ronaldo,Portugal,2,2,Soccer,2020,105\\r\\n294,Lionel Messi,Argentina,3,1,Soccer,2020,104\\r\\n295,Neymar,Brazil,4,3,Soccer,2020,95.5\\r\\n296,LeBron James,USA,5,8,Basketball,2020,88.2\\r\\n297,Stephen Curry,USA,6,9,Basketball,2020,74.4\\r\\n298,Kevin Durant,USA,7,10,Basketball,2020,63.9\\r\\n299,Tiger Woods,USA,8,11,Golf,2020,62.3\\r\\n300,Kirk Cousins,USA,9,>100,American Football,2020,60.5\\r\\n301,Carson Wentz,USA,10,>100,American Football,2020,59.1'}"
            ]
          },
          "metadata": {},
          "execution_count": 12
        }
      ]
    },
    {
      "cell_type": "code",
      "source": [
        "from pandas.core.frame import DataFrame\n",
        "DataFrame\n"
      ],
      "metadata": {
        "colab": {
          "base_uri": "https://localhost:8080/"
        },
        "id": "dZ2IlTGnskXa",
        "outputId": "3a96df2e-42a1-42b4-8383-bfd2b0f9bec3"
      },
      "execution_count": null,
      "outputs": [
        {
          "output_type": "execute_result",
          "data": {
            "text/plain": [
              "pandas.core.frame.DataFrame"
            ]
          },
          "metadata": {},
          "execution_count": 23
        }
      ]
    },
    {
      "cell_type": "code",
      "source": [
        "df=pd.read_csv('Forbes Richest Atheletes (Forbes Richest Athletes 1990-2020).csv')\n",
        "print(df.head())"
      ],
      "metadata": {
        "colab": {
          "base_uri": "https://localhost:8080/"
        },
        "id": "3xLHRXpw0Y5o",
        "outputId": "85532a28-1944-466b-bfc5-bc6edfe73835"
      },
      "execution_count": null,
      "outputs": [
        {
          "output_type": "stream",
          "name": "stdout",
          "text": [
            "   S.NO               Name Nationality  Current Rank Previous Year Rank  \\\n",
            "0     1         Mike Tyson         USA             1                NaN   \n",
            "1     2     Buster Douglas         USA             2                NaN   \n",
            "2     3  Sugar Ray Leonard         USA             3                NaN   \n",
            "3     4       Ayrton Senna      Brazil             4                NaN   \n",
            "4     5        Alain Prost      France             5                NaN   \n",
            "\n",
            "         Sport  Year  earnings ($ million)  \n",
            "0       boxing  1990                  28.6  \n",
            "1       boxing  1990                  26.0  \n",
            "2       boxing  1990                  13.0  \n",
            "3  auto racing  1990                  10.0  \n",
            "4  auto racing  1990                   9.0  \n"
          ]
        }
      ]
    }
  ]
}